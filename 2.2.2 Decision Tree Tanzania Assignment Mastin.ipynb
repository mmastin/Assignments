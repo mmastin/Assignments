{
 "cells": [
  {
   "cell_type": "code",
   "execution_count": 469,
   "metadata": {},
   "outputs": [
    {
     "data": {
      "text/plain": [
       "((14358, 2), (59400, 40), (14358, 40), (59400, 2))"
      ]
     },
     "execution_count": 469,
     "metadata": {},
     "output_type": "execute_result"
    }
   ],
   "source": [
    "import pandas as pd\n",
    "sample_submission = pd.read_csv('/Users/mattmastin/Desktop/Tanzania/sample_submission.csv')\n",
    "train_features = pd.read_csv('/Users/mattmastin/Desktop/Tanzania/train_features.csv')\n",
    "test_features = pd.read_csv('/Users/mattmastin/Desktop/Tanzania/test_features.csv')\n",
    "train_labels = pd.read_csv('/Users/mattmastin/Desktop/Tanzania/train_labels.csv')\n",
    "\n",
    "sample_submission.shape, train_features.shape, test_features.shape, train_labels.shape"
   ]
  },
  {
   "cell_type": "code",
   "execution_count": 470,
   "metadata": {},
   "outputs": [],
   "source": [
    "import category_encoders as ce\n",
    "import numpy as np\n",
    "from sklearn.model_selection import train_test_split\n",
    "from sklearn.impute import MissingIndicator\n",
    "pd.set_option('display.float_format', '{:.2f}'.format)"
   ]
  },
  {
   "cell_type": "code",
   "execution_count": 471,
   "metadata": {},
   "outputs": [],
   "source": [
    "train = pd.merge(train_features, train_labels)"
   ]
  },
  {
   "cell_type": "code",
   "execution_count": 472,
   "metadata": {},
   "outputs": [],
   "source": [
    "train, val = train_test_split(train, train_size=0.80, test_size=0.20,\n",
    "                             stratify=train['status_group'], random_state=42)"
   ]
  },
  {
   "cell_type": "code",
   "execution_count": 473,
   "metadata": {},
   "outputs": [
    {
     "data": {
      "text/plain": [
       "((47520, 41), (11880, 41), (14358, 39))"
      ]
     },
     "execution_count": 473,
     "metadata": {},
     "output_type": "execute_result"
    }
   ],
   "source": [
    "train.shape, val.shape, test.shape"
   ]
  },
  {
   "cell_type": "code",
   "execution_count": 474,
   "metadata": {},
   "outputs": [
    {
     "data": {
      "text/plain": [
       "id                           0\n",
       "amount_tsh                   0\n",
       "date_recorded                0\n",
       "funder                    2904\n",
       "gps_height                   0\n",
       "installer                 2917\n",
       "longitude                    0\n",
       "latitude                     0\n",
       "wpt_name                     0\n",
       "num_private                  0\n",
       "basin                        0\n",
       "subvillage                 286\n",
       "region                       0\n",
       "region_code                  0\n",
       "district_code                0\n",
       "lga                          0\n",
       "ward                         0\n",
       "population                   0\n",
       "public_meeting            2644\n",
       "recorded_by                  0\n",
       "scheme_management         3128\n",
       "scheme_name              22532\n",
       "permit                    2443\n",
       "construction_year            0\n",
       "extraction_type              0\n",
       "extraction_type_group        0\n",
       "extraction_type_class        0\n",
       "management                   0\n",
       "management_group             0\n",
       "payment                      0\n",
       "payment_type                 0\n",
       "water_quality                0\n",
       "quality_group                0\n",
       "quantity                     0\n",
       "quantity_group               0\n",
       "source                       0\n",
       "source_type                  0\n",
       "source_class                 0\n",
       "waterpoint_type              0\n",
       "waterpoint_type_group        0\n",
       "status_group                 0\n",
       "dtype: int64"
      ]
     },
     "execution_count": 474,
     "metadata": {},
     "output_type": "execute_result"
    }
   ],
   "source": [
    "train.isnull().sum()"
   ]
  },
  {
   "cell_type": "code",
   "execution_count": 475,
   "metadata": {},
   "outputs": [
    {
     "data": {
      "text/html": [
       "<div>\n",
       "<style scoped>\n",
       "    .dataframe tbody tr th:only-of-type {\n",
       "        vertical-align: middle;\n",
       "    }\n",
       "\n",
       "    .dataframe tbody tr th {\n",
       "        vertical-align: top;\n",
       "    }\n",
       "\n",
       "    .dataframe thead th {\n",
       "        text-align: right;\n",
       "    }\n",
       "</style>\n",
       "<table border=\"1\" class=\"dataframe\">\n",
       "  <thead>\n",
       "    <tr style=\"text-align: right;\">\n",
       "      <th></th>\n",
       "      <th>id</th>\n",
       "      <th>amount_tsh</th>\n",
       "      <th>gps_height</th>\n",
       "      <th>longitude</th>\n",
       "      <th>latitude</th>\n",
       "      <th>num_private</th>\n",
       "      <th>region_code</th>\n",
       "      <th>district_code</th>\n",
       "      <th>population</th>\n",
       "      <th>construction_year</th>\n",
       "    </tr>\n",
       "  </thead>\n",
       "  <tbody>\n",
       "    <tr>\n",
       "      <th>count</th>\n",
       "      <td>47520.00</td>\n",
       "      <td>47520.00</td>\n",
       "      <td>47520.00</td>\n",
       "      <td>47520.00</td>\n",
       "      <td>47520.00</td>\n",
       "      <td>47520.00</td>\n",
       "      <td>47520.00</td>\n",
       "      <td>47520.00</td>\n",
       "      <td>47520.00</td>\n",
       "      <td>47520.00</td>\n",
       "    </tr>\n",
       "    <tr>\n",
       "      <th>mean</th>\n",
       "      <td>37037.92</td>\n",
       "      <td>321.93</td>\n",
       "      <td>669.57</td>\n",
       "      <td>34.08</td>\n",
       "      <td>-5.71</td>\n",
       "      <td>0.48</td>\n",
       "      <td>15.26</td>\n",
       "      <td>5.62</td>\n",
       "      <td>179.81</td>\n",
       "      <td>1302.77</td>\n",
       "    </tr>\n",
       "    <tr>\n",
       "      <th>std</th>\n",
       "      <td>21412.10</td>\n",
       "      <td>3197.24</td>\n",
       "      <td>693.01</td>\n",
       "      <td>6.55</td>\n",
       "      <td>2.94</td>\n",
       "      <td>13.31</td>\n",
       "      <td>17.53</td>\n",
       "      <td>9.62</td>\n",
       "      <td>463.08</td>\n",
       "      <td>950.96</td>\n",
       "    </tr>\n",
       "    <tr>\n",
       "      <th>min</th>\n",
       "      <td>0.00</td>\n",
       "      <td>0.00</td>\n",
       "      <td>-63.00</td>\n",
       "      <td>0.00</td>\n",
       "      <td>-11.65</td>\n",
       "      <td>0.00</td>\n",
       "      <td>1.00</td>\n",
       "      <td>0.00</td>\n",
       "      <td>0.00</td>\n",
       "      <td>0.00</td>\n",
       "    </tr>\n",
       "    <tr>\n",
       "      <th>25%</th>\n",
       "      <td>18482.75</td>\n",
       "      <td>0.00</td>\n",
       "      <td>0.00</td>\n",
       "      <td>33.09</td>\n",
       "      <td>-8.53</td>\n",
       "      <td>0.00</td>\n",
       "      <td>5.00</td>\n",
       "      <td>2.00</td>\n",
       "      <td>0.00</td>\n",
       "      <td>0.00</td>\n",
       "    </tr>\n",
       "    <tr>\n",
       "      <th>50%</th>\n",
       "      <td>36986.50</td>\n",
       "      <td>0.00</td>\n",
       "      <td>372.50</td>\n",
       "      <td>34.91</td>\n",
       "      <td>-5.02</td>\n",
       "      <td>0.00</td>\n",
       "      <td>12.00</td>\n",
       "      <td>3.00</td>\n",
       "      <td>25.00</td>\n",
       "      <td>1986.00</td>\n",
       "    </tr>\n",
       "    <tr>\n",
       "      <th>75%</th>\n",
       "      <td>55450.25</td>\n",
       "      <td>25.00</td>\n",
       "      <td>1320.00</td>\n",
       "      <td>37.17</td>\n",
       "      <td>-3.33</td>\n",
       "      <td>0.00</td>\n",
       "      <td>17.00</td>\n",
       "      <td>5.00</td>\n",
       "      <td>215.00</td>\n",
       "      <td>2004.00</td>\n",
       "    </tr>\n",
       "    <tr>\n",
       "      <th>max</th>\n",
       "      <td>74247.00</td>\n",
       "      <td>350000.00</td>\n",
       "      <td>2770.00</td>\n",
       "      <td>40.34</td>\n",
       "      <td>-0.00</td>\n",
       "      <td>1776.00</td>\n",
       "      <td>99.00</td>\n",
       "      <td>80.00</td>\n",
       "      <td>15300.00</td>\n",
       "      <td>2013.00</td>\n",
       "    </tr>\n",
       "  </tbody>\n",
       "</table>\n",
       "</div>"
      ],
      "text/plain": [
       "            id  amount_tsh  gps_height  longitude  latitude  num_private  \\\n",
       "count 47520.00    47520.00    47520.00   47520.00  47520.00     47520.00   \n",
       "mean  37037.92      321.93      669.57      34.08     -5.71         0.48   \n",
       "std   21412.10     3197.24      693.01       6.55      2.94        13.31   \n",
       "min       0.00        0.00      -63.00       0.00    -11.65         0.00   \n",
       "25%   18482.75        0.00        0.00      33.09     -8.53         0.00   \n",
       "50%   36986.50        0.00      372.50      34.91     -5.02         0.00   \n",
       "75%   55450.25       25.00     1320.00      37.17     -3.33         0.00   \n",
       "max   74247.00   350000.00     2770.00      40.34     -0.00      1776.00   \n",
       "\n",
       "       region_code  district_code  population  construction_year  \n",
       "count     47520.00       47520.00    47520.00           47520.00  \n",
       "mean         15.26           5.62      179.81            1302.77  \n",
       "std          17.53           9.62      463.08             950.96  \n",
       "min           1.00           0.00        0.00               0.00  \n",
       "25%           5.00           2.00        0.00               0.00  \n",
       "50%          12.00           3.00       25.00            1986.00  \n",
       "75%          17.00           5.00      215.00            2004.00  \n",
       "max          99.00          80.00    15300.00            2013.00  "
      ]
     },
     "execution_count": 475,
     "metadata": {},
     "output_type": "execute_result"
    }
   ],
   "source": [
    "train.describe()"
   ]
  },
  {
   "cell_type": "code",
   "execution_count": 482,
   "metadata": {},
   "outputs": [
    {
     "data": {
      "text/html": [
       "<div>\n",
       "<style scoped>\n",
       "    .dataframe tbody tr th:only-of-type {\n",
       "        vertical-align: middle;\n",
       "    }\n",
       "\n",
       "    .dataframe tbody tr th {\n",
       "        vertical-align: top;\n",
       "    }\n",
       "\n",
       "    .dataframe thead th {\n",
       "        text-align: right;\n",
       "    }\n",
       "</style>\n",
       "<table border=\"1\" class=\"dataframe\">\n",
       "  <thead>\n",
       "    <tr style=\"text-align: right;\">\n",
       "      <th></th>\n",
       "      <th>funder</th>\n",
       "      <th>installer</th>\n",
       "      <th>wpt_name</th>\n",
       "      <th>basin</th>\n",
       "      <th>subvillage</th>\n",
       "      <th>region</th>\n",
       "      <th>region_code</th>\n",
       "      <th>district_code</th>\n",
       "      <th>lga</th>\n",
       "      <th>ward</th>\n",
       "      <th>...</th>\n",
       "      <th>water_quality</th>\n",
       "      <th>quality_group</th>\n",
       "      <th>quantity</th>\n",
       "      <th>quantity_group</th>\n",
       "      <th>source</th>\n",
       "      <th>source_type</th>\n",
       "      <th>source_class</th>\n",
       "      <th>waterpoint_type</th>\n",
       "      <th>waterpoint_type_group</th>\n",
       "      <th>status_group</th>\n",
       "    </tr>\n",
       "  </thead>\n",
       "  <tbody>\n",
       "    <tr>\n",
       "      <th>count</th>\n",
       "      <td>47520</td>\n",
       "      <td>47520</td>\n",
       "      <td>47520</td>\n",
       "      <td>47520</td>\n",
       "      <td>47520</td>\n",
       "      <td>47520</td>\n",
       "      <td>47520</td>\n",
       "      <td>47520</td>\n",
       "      <td>47520</td>\n",
       "      <td>47520</td>\n",
       "      <td>...</td>\n",
       "      <td>47520</td>\n",
       "      <td>47520</td>\n",
       "      <td>47520</td>\n",
       "      <td>47520</td>\n",
       "      <td>47520</td>\n",
       "      <td>47520</td>\n",
       "      <td>47520</td>\n",
       "      <td>47520</td>\n",
       "      <td>47520</td>\n",
       "      <td>47520</td>\n",
       "    </tr>\n",
       "    <tr>\n",
       "      <th>unique</th>\n",
       "      <td>1717</td>\n",
       "      <td>1930</td>\n",
       "      <td>30661</td>\n",
       "      <td>9</td>\n",
       "      <td>17232</td>\n",
       "      <td>21</td>\n",
       "      <td>27</td>\n",
       "      <td>20</td>\n",
       "      <td>124</td>\n",
       "      <td>2082</td>\n",
       "      <td>...</td>\n",
       "      <td>8</td>\n",
       "      <td>6</td>\n",
       "      <td>5</td>\n",
       "      <td>5</td>\n",
       "      <td>10</td>\n",
       "      <td>7</td>\n",
       "      <td>3</td>\n",
       "      <td>7</td>\n",
       "      <td>6</td>\n",
       "      <td>3</td>\n",
       "    </tr>\n",
       "    <tr>\n",
       "      <th>top</th>\n",
       "      <td>Government Of Tanzania</td>\n",
       "      <td>DWE</td>\n",
       "      <td>none</td>\n",
       "      <td>Lake Victoria</td>\n",
       "      <td>Shuleni</td>\n",
       "      <td>Iringa</td>\n",
       "      <td>11</td>\n",
       "      <td>1</td>\n",
       "      <td>Njombe</td>\n",
       "      <td>Igosi</td>\n",
       "      <td>...</td>\n",
       "      <td>soft</td>\n",
       "      <td>good</td>\n",
       "      <td>enough</td>\n",
       "      <td>enough</td>\n",
       "      <td>spring</td>\n",
       "      <td>spring</td>\n",
       "      <td>groundwater</td>\n",
       "      <td>communal standpipe</td>\n",
       "      <td>communal standpipe</td>\n",
       "      <td>functional</td>\n",
       "    </tr>\n",
       "    <tr>\n",
       "      <th>freq</th>\n",
       "      <td>7321</td>\n",
       "      <td>13978</td>\n",
       "      <td>2879</td>\n",
       "      <td>8137</td>\n",
       "      <td>420</td>\n",
       "      <td>4250</td>\n",
       "      <td>4255</td>\n",
       "      <td>9772</td>\n",
       "      <td>2003</td>\n",
       "      <td>257</td>\n",
       "      <td>...</td>\n",
       "      <td>40598</td>\n",
       "      <td>40598</td>\n",
       "      <td>26567</td>\n",
       "      <td>26567</td>\n",
       "      <td>13620</td>\n",
       "      <td>13620</td>\n",
       "      <td>36638</td>\n",
       "      <td>22778</td>\n",
       "      <td>27642</td>\n",
       "      <td>25807</td>\n",
       "    </tr>\n",
       "  </tbody>\n",
       "</table>\n",
       "<p>4 rows × 31 columns</p>\n",
       "</div>"
      ],
      "text/plain": [
       "                        funder installer wpt_name          basin subvillage  \\\n",
       "count                    47520     47520    47520          47520      47520   \n",
       "unique                    1717      1930    30661              9      17232   \n",
       "top     Government Of Tanzania       DWE     none  Lake Victoria    Shuleni   \n",
       "freq                      7321     13978     2879           8137        420   \n",
       "\n",
       "        region region_code district_code     lga   ward     ...       \\\n",
       "count    47520       47520         47520   47520  47520     ...        \n",
       "unique      21          27            20     124   2082     ...        \n",
       "top     Iringa          11             1  Njombe  Igosi     ...        \n",
       "freq      4250        4255          9772    2003    257     ...        \n",
       "\n",
       "       water_quality quality_group quantity quantity_group  source  \\\n",
       "count          47520         47520    47520          47520   47520   \n",
       "unique             8             6        5              5      10   \n",
       "top             soft          good   enough         enough  spring   \n",
       "freq           40598         40598    26567          26567   13620   \n",
       "\n",
       "       source_type source_class     waterpoint_type waterpoint_type_group  \\\n",
       "count        47520        47520               47520                 47520   \n",
       "unique           7            3                   7                     6   \n",
       "top         spring  groundwater  communal standpipe    communal standpipe   \n",
       "freq         13620        36638               22778                 27642   \n",
       "\n",
       "       status_group  \n",
       "count         47520  \n",
       "unique            3  \n",
       "top      functional  \n",
       "freq          25807  \n",
       "\n",
       "[4 rows x 31 columns]"
      ]
     },
     "execution_count": 482,
     "metadata": {},
     "output_type": "execute_result"
    }
   ],
   "source": [
    "train.describe(exclude='number')"
   ]
  },
  {
   "cell_type": "code",
   "execution_count": 476,
   "metadata": {},
   "outputs": [],
   "source": [
    "def wrangle(X):\n",
    "    \"\"\"Wrangles train, validate, and test sets in the same way\"\"\"\n",
    "    X = X.copy()\n",
    "    \n",
    "    # About 3% of the time, latitude has small values near zero,\n",
    "    # outside Tanzania, so we'll treat these values like zero.\n",
    "    X['latitude'] = X['latitude'].replace(-2e-08, 0)\n",
    "    X['longitude'] = X['latitude'].replace(0, 34)\n",
    "    \n",
    "    # When columns have zeros and shouldn't, they are like null values.\n",
    "    # So we will replace them with the column mean.\n",
    "    cols_with_zeros = ['construction_year', 'longitude', 'latitude']\n",
    "    for col in cols_with_zeros:\n",
    "        X[col] = X[col].replace(0, np.nan)\n",
    "        X[col] = X[col].fillna(X[col].mean())\n",
    "        \n",
    "    # Convert date_recorded to datetime\n",
    "    X['date_recorded'] = pd.to_datetime(X['date_recorded'], infer_datetime_format=True)\n",
    "    \n",
    "    # Extract year from date_recorded\n",
    "    X['year_recorded'] = X['date_recorded'].dt.year\n",
    "    \n",
    "    # quantity & quantity_group are duplicates, so drop one\n",
    "#     X = X.drop(columns={'quantity_group', 'scheme_name', 'permit', 'public_meeting',\n",
    "#               'scheme_management', 'subvillage', 'installer', 'funder'})\n",
    "    \n",
    "    # for categoricals with missing values, fill with the category 'MISSING'\n",
    "    categoricals = X.select_dtypes(exclude='number').columns\n",
    "#     for col in categoricals:\n",
    "#         X[col] = X[col].fillna('MISSING')\n",
    "    \n",
    "    return X"
   ]
  },
  {
   "cell_type": "code",
   "execution_count": 477,
   "metadata": {},
   "outputs": [],
   "source": [
    "def wrangle1(df):\n",
    "    df = df.copy()\n",
    "    \n",
    "    df['latitude'] = df['latitude'].replace(-2e-08, 0)\n",
    "    \n",
    "    cols_with_zeros = ['construction_year', 'longitude', 'latitude']\n",
    "    for col in cols_with_zeros:\n",
    "        df[col] = df[col].replace(0, np.nan)\n",
    "        df[col] = df[col].fillna(df[col].mean())\n",
    "        \n",
    "    df['date_recorded'] = pd.to_datetime(df['date_recorded'], \n",
    "                                         infer_datetime_format=True)\n",
    "    \n",
    "    df['year_recorded'] = df['date_recorded'].dt.year\n",
    "    \n",
    "#     df = df.drop(columns='quantity_group')\n",
    "    \n",
    "    categoricals = df.select_dtypes(exclude='number').columns\n",
    "    for col in categoricals:\n",
    "        df[col] = df[col].fillna('other')\n",
    "        \n",
    "    df['region_code'] = df['region_code'].astype('str')\n",
    "    df['district_code'] = df['district_code'].astype('str')\n",
    "    \n",
    "    df = df.drop(columns='recorded_by')\n",
    "    df = df.drop(columns='date_recorded')\n",
    "    df = df.drop(columns='date_recorded')\n",
    "    \n",
    "    type_dict = {'amount_tsh':'float64',\n",
    "                'gps_height':'float64',\n",
    "                'longitude':'float64',\n",
    "                'latitude':'float64',\n",
    "                'num_private':'float64',\n",
    "                'population':'float64',\n",
    "                'construction_year':'float64'}\n",
    "    df = df.astype(dtype = type_dict)\n",
    "    \n",
    "#     numeric = ['amount_tsh',\n",
    "#               'gps_height',\n",
    "#               'longitude',\n",
    "#               'population',\n",
    "#               'construction_year']\n",
    "#     null_values = {'amount_tsh':0,\n",
    "#               'gps_height':0,\n",
    "#               'longitude':0,\n",
    "#               'population':0,\n",
    "#               'construction_year':0}\n",
    "    \n",
    "    df['population'] = df['population'].replace(0, 180)\n",
    "    df['population'] = df['population'].replace(0, 180)\n",
    "    df['construction_year'] = [year if 1960 < year < 2019 else \n",
    "                               1996 for year in df['construction_year']]\n",
    "    \n",
    "#     indicator = MissingIndicator()\n",
    "#     trash_array = indicator.fit_transform(df[numeric])\n",
    "    \n",
    "#     trash_names = [numeric[x] + '_trash' for x in indicator.features_]\n",
    "    \n",
    "#     for feature in numeric:\n",
    "#         replacements = df.groupby('ward')[feature].transform('mean')\n",
    "#         df[feature] = df[feature].fillna(replacements)\n",
    "        \n",
    "#     for feature in numeric:\n",
    "#         replacements = df.groupby('region')[feature].transform('mean')\n",
    "#         df[feature] = df[feature].fillna(replacements)\n",
    "        \n",
    "#     for feature in numeric:\n",
    "#         replacements = df[feature].median()\n",
    "#         df[feature] = df[feature].fillna(replacements)\n",
    "        \n",
    "    return df"
   ]
  },
  {
   "cell_type": "code",
   "execution_count": 478,
   "metadata": {},
   "outputs": [],
   "source": [
    "# def wrangle2(df):\n",
    "#     df = df.copy()\n",
    "    \n",
    "# #     df = df.drop(columns='date_recorded')\n",
    "    \n",
    "#     categoricals = df.select_dtypes(exclude='number').columns.tolist()\n",
    "    \n",
    "# #     df[categoricals] = df[categoricals].applymap(lambda x: x.lower())\n",
    "    \n",
    "#     nan_list = ['not known', 'unknown', 'none', '-', '##', 'not kno', 'unknown installer']\n",
    "#     df = df.replace(nan_list, np.nan)\n",
    "    \n",
    "#     for feature in df[categoricals]:\n",
    "#         to_keep = df[feature].value_counts()[df[feature].value_counts() > 100].index.tolist()\n",
    "#         feature_copy = df[feature].copy()\n",
    "#         feature_copy[~feature_copy.isin(to_keep)] = np.nan\n",
    "#         df[feature] = feature_copy\n",
    "        \n",
    "#     df[categoricals] = df[categoricals].fillna('other')\n",
    "    \n",
    "#     return df"
   ]
  },
  {
   "cell_type": "code",
   "execution_count": 479,
   "metadata": {},
   "outputs": [],
   "source": [
    "train = wrangle(train)\n",
    "val = wrangle(val)\n",
    "test = wrangle(test_features)"
   ]
  },
  {
   "cell_type": "code",
   "execution_count": 480,
   "metadata": {},
   "outputs": [],
   "source": [
    "train = wrangle1(train)\n",
    "val = wrangle1(val)\n",
    "test = wrangle1(test)"
   ]
  },
  {
   "cell_type": "code",
   "execution_count": 428,
   "metadata": {},
   "outputs": [],
   "source": [
    "# train = wrangle2(train)\n",
    "# val = wrangle2(val)\n",
    "# test = wrangle2(test)"
   ]
  },
  {
   "cell_type": "code",
   "execution_count": 429,
   "metadata": {},
   "outputs": [],
   "source": [
    "target = 'status_group'\n",
    "train_features = train.drop(columns=[target, 'id'])\n",
    "numeric_features = train_features.select_dtypes(include='number').columns.tolist()\n",
    "cardinality = train_features.select_dtypes(exclude='number').nunique()\n",
    "categorical_features = cardinality[cardinality <= 150].index.tolist()\n",
    "features = numeric_features + categorical_features"
   ]
  },
  {
   "cell_type": "code",
   "execution_count": 430,
   "metadata": {},
   "outputs": [],
   "source": [
    "X_train = train[features]\n",
    "y_train = train[target]\n",
    "X_val = val[features]\n",
    "y_val = val[target]\n",
    "X_test = test[features]\n",
    "\n",
    "encoder = ce.OneHotEncoder(use_cat_names=True)\n",
    "X_train_encoded = encoder.fit_transform(X_train)\n",
    "X_val_encoded = encoder.transform(X_val)\n",
    "X_test_encoded = encoder.transform(X_test)"
   ]
  },
  {
   "cell_type": "code",
   "execution_count": 431,
   "metadata": {},
   "outputs": [],
   "source": [
    "# train_location = X_train[['longitude', 'latitude', 'amount_tsh', 'gps_height', 'num_private',\n",
    "#                          'district_code', 'population', 'construction_year', 'year_recorded']].copy()\n",
    "# val_location = X_val[['longitude', 'latitude', 'amount_tsh', 'gps_height', 'num_private',\n",
    "#                          'district_code', 'population', 'construction_year', 'year_recorded']].copy()"
   ]
  },
  {
   "cell_type": "code",
   "execution_count": 432,
   "metadata": {},
   "outputs": [],
   "source": [
    "# # trying to fix 'allow_nan=force_all_finite == 'allow-nan''error\n",
    "\n",
    "# X_train_encoded = X_train_encoded.reset_index()\n",
    "# y_train = y_train.reset_index()"
   ]
  },
  {
   "cell_type": "code",
   "execution_count": 433,
   "metadata": {},
   "outputs": [
    {
     "data": {
      "text/plain": [
       "((41580, 378), (41580,))"
      ]
     },
     "execution_count": 433,
     "metadata": {},
     "output_type": "execute_result"
    }
   ],
   "source": [
    "X_train_encoded.shape, y_train.shape"
   ]
  },
  {
   "cell_type": "code",
   "execution_count": 573,
   "metadata": {},
   "outputs": [
    {
     "name": "stdout",
     "output_type": "stream",
     "text": [
      "Decision Tree\n",
      "Train accuracy 0.8581529581529581\n",
      "Validation accuracy 0.7704826038159371\n"
     ]
    }
   ],
   "source": [
    "from sklearn.tree import DecisionTreeClassifier\n",
    "dt = DecisionTreeClassifier(max_depth=18, min_samples_split=3, presort=True)\n",
    "dt.fit(X_train_encoded, y_train)\n",
    "print('Decision Tree')\n",
    "print('Train accuracy', dt.score(X_train_encoded, y_train))\n",
    "print('Validation accuracy', dt.score(X_val_encoded, y_val))"
   ]
  },
  {
   "cell_type": "code",
   "execution_count": 571,
   "metadata": {},
   "outputs": [
    {
     "name": "stderr",
     "output_type": "stream",
     "text": [
      "/Users/mattmastin/anaconda3/lib/python3.7/site-packages/sklearn/ensemble/forest.py:246: FutureWarning: The default value of n_estimators will change from 10 in version 0.20 to 100 in 0.22.\n",
      "  \"10 in version 0.20 to 100 in 0.22.\", FutureWarning)\n"
     ]
    },
    {
     "data": {
      "text/plain": [
       "RandomForestClassifier(bootstrap=True, class_weight=None, criterion='gini',\n",
       "            max_depth=33, max_features='auto', max_leaf_nodes=None,\n",
       "            min_impurity_decrease=0.0, min_impurity_split=None,\n",
       "            min_samples_leaf=4, min_samples_split=12,\n",
       "            min_weight_fraction_leaf=0.0, n_estimators=10, n_jobs=None,\n",
       "            oob_score=False, random_state=None, verbose=0,\n",
       "            warm_start=False)"
      ]
     },
     "execution_count": 571,
     "metadata": {},
     "output_type": "execute_result"
    }
   ],
   "source": [
    "from sklearn.ensemble import RandomForestClassifier\n",
    "clf = RandomForestClassifier(max_depth=33, min_samples_split=12,\n",
    "                            criterion='gini', min_samples_leaf=4)\n",
    "clf.fit(X_train_encoded, y_train)"
   ]
  },
  {
   "cell_type": "code",
   "execution_count": 572,
   "metadata": {},
   "outputs": [
    {
     "data": {
      "text/plain": [
       "0.7895061728395062"
      ]
     },
     "execution_count": 572,
     "metadata": {},
     "output_type": "execute_result"
    }
   ],
   "source": [
    "clf.score(X_val_encoded, y_val)"
   ]
  },
  {
   "cell_type": "code",
   "execution_count": null,
   "metadata": {},
   "outputs": [],
   "source": []
  },
  {
   "cell_type": "code",
   "execution_count": 531,
   "metadata": {},
   "outputs": [],
   "source": [
    "y_pred = clf.predict(X_test_encoded)\n",
    "submission = sample_submission.copy()\n",
    "submission['status_group'] = y_pred\n",
    "submission.to_csv('submission-08.csv', index=False)"
   ]
  },
  {
   "cell_type": "markdown",
   "metadata": {},
   "source": [
    "#### X_train.dtypes"
   ]
  },
  {
   "cell_type": "code",
   "execution_count": 95,
   "metadata": {},
   "outputs": [
    {
     "data": {
      "text/plain": [
       "<bound method NDFrame.describe of 43360    insufficient\n",
       "7263           enough\n",
       "2486     insufficient\n",
       "313            enough\n",
       "52726          enough\n",
       "8558     insufficient\n",
       "2559     insufficient\n",
       "54735          enough\n",
       "25763          enough\n",
       "44540          enough\n",
       "28603             dry\n",
       "4372     insufficient\n",
       "30666    insufficient\n",
       "6431           enough\n",
       "57420    insufficient\n",
       "1373           enough\n",
       "2026           enough\n",
       "58977             dry\n",
       "41101        seasonal\n",
       "10019          enough\n",
       "5103           enough\n",
       "36712    insufficient\n",
       "29670    insufficient\n",
       "54588        seasonal\n",
       "31867    insufficient\n",
       "12090        seasonal\n",
       "48300          enough\n",
       "16754          enough\n",
       "50582             dry\n",
       "9136           enough\n",
       "             ...     \n",
       "26450          enough\n",
       "56373    insufficient\n",
       "4595     insufficient\n",
       "35771          enough\n",
       "41564          enough\n",
       "30571    insufficient\n",
       "25961    insufficient\n",
       "21280    insufficient\n",
       "40122          enough\n",
       "42270          enough\n",
       "38160          enough\n",
       "6050           enough\n",
       "12578          enough\n",
       "56315          enough\n",
       "48801    insufficient\n",
       "5891     insufficient\n",
       "59254          enough\n",
       "3731           enough\n",
       "23046          enough\n",
       "28292          enough\n",
       "19682          enough\n",
       "38481          enough\n",
       "7096           enough\n",
       "36363    insufficient\n",
       "48006          enough\n",
       "9795           enough\n",
       "58170             dry\n",
       "17191          enough\n",
       "8192     insufficient\n",
       "49783          enough\n",
       "Name: quantity, Length: 47520, dtype: object>"
      ]
     },
     "execution_count": 95,
     "metadata": {},
     "output_type": "execute_result"
    }
   ],
   "source": [
    "X_train['quantity'].describe"
   ]
  },
  {
   "cell_type": "code",
   "execution_count": null,
   "metadata": {},
   "outputs": [],
   "source": []
  }
 ],
 "metadata": {
  "kernelspec": {
   "display_name": "Python 3",
   "language": "python",
   "name": "python3"
  },
  "language_info": {
   "codemirror_mode": {
    "name": "ipython",
    "version": 3
   },
   "file_extension": ".py",
   "mimetype": "text/x-python",
   "name": "python",
   "nbconvert_exporter": "python",
   "pygments_lexer": "ipython3",
   "version": "3.7.3"
  }
 },
 "nbformat": 4,
 "nbformat_minor": 2
}
